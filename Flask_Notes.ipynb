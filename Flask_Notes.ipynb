{
 "metadata": {
  "language_info": {
   "codemirror_mode": {
    "name": "ipython",
    "version": 3
   },
   "file_extension": ".py",
   "mimetype": "text/x-python",
   "name": "python",
   "nbconvert_exporter": "python",
   "pygments_lexer": "ipython3",
   "version": "3.9.4-final"
  },
  "orig_nbformat": 2,
  "kernelspec": {
   "name": "python3",
   "display_name": "Python 3.9.4 64-bit",
   "metadata": {
    "interpreter": {
     "hash": "aee8b7b246df8f9039afb4144a1f6fd8d2ca17a180786b69acc140d282b71a49"
    }
   }
  }
 },
 "nbformat": 4,
 "nbformat_minor": 2,
 "cells": [
  {
   "cell_type": "code",
   "execution_count": null,
   "metadata": {},
   "outputs": [],
   "source": [
    "from flask import Flask\n",
    "app = Flask(__name__)\n",
    "\n",
    "\n",
    "@app.route('/')\n",
    "def hello():\n",
    "    return \"<h2>Hello World!</h2>\"\n",
    "\n",
    "@app.route('/user/<name>')     # <---- THE NEW ENDPOINT - The variable has to be <name>\n",
    "def hello_name(name):\n",
    "    return f\"<h1>-- Hello {name} --</h1>\"\n",
    "\n",
    "if __name__ == '__main__':\n",
    "    app.run(host='localhost',debug=True, port=8000)"
   ]
  },
  {
   "cell_type": "code",
   "execution_count": 7,
   "metadata": {},
   "outputs": [
    {
     "output_type": "stream",
     "name": "stdout",
     "text": [
      " select closing_price from sec_master where trade_date = '2011-08-11' and symbol = 'AXP' \n45.07\n"
     ]
    }
   ],
   "source": [
    "import datetime\n",
    "from flask import Flask\n",
    "import getpass\n",
    "import glob\n",
    "from jinja2 import Template\n",
    "import logging\n",
    "import pandas as pd\n",
    "import math \n",
    "import mysql\n",
    "import mysql.connector\n",
    "import os\n",
    "import sqlalchemy\n",
    "import sqlite3\n",
    "os.chdir('/Users/rashaanrichardson/Desktop/SQL_Notes')\n",
    "\n",
    "\n",
    "mydb = mysql.connector.connect(\n",
    "host=\"localhost\",\n",
    "user=\"Rashaan05\",\n",
    "passwd=\"rich@rdson\"\n",
    ")\n",
    "cur = mydb.cursor()\n",
    "\n",
    "cur.execute('USE final_project;')\n",
    "trade_date = '2011-08-11'\n",
    "symbol = 'AXP'\n",
    "sql = f''' select closing_price from sec_master where trade_date = '{trade_date}' and symbol = '{symbol}' '''\n",
    "print(sql)\n",
    "cur.execute(sql)\n",
    "l = cur.fetchall()\n",
    "for x in l:\n",
    "    print(x[0])"
   ]
  },
  {
   "cell_type": "code",
   "execution_count": null,
   "metadata": {},
   "outputs": [],
   "source": []
  }
 ]
}